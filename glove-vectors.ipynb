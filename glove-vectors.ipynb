{
 "cells": [
  {
   "cell_type": "code",
   "execution_count": 1,
   "metadata": {},
   "outputs": [
    {
     "name": "stderr",
     "output_type": "stream",
     "text": [
      "[nltk_data] Downloading package cmudict to\n",
      "[nltk_data]     /Users/msiegelman/nltk_data...\n",
      "[nltk_data]   Package cmudict is already up-to-date!\n"
     ]
    },
    {
     "data": {
      "text/plain": [
       "True"
      ]
     },
     "execution_count": 1,
     "metadata": {},
     "output_type": "execute_result"
    }
   ],
   "source": [
    "import numpy as np\n",
    "import pandas as pd\n",
    "\n",
    "#CMU pronunciation (phoneme) dictionary\n",
    "import cmudict\n",
    "\n",
    "#Natural Language Toolkit\n",
    "import nltk\n",
    "from nltk import word_tokenize\n"
   ]
  },
  {
   "cell_type": "markdown",
   "metadata": {},
   "source": [
    "Read the glove vectors from a txt file into a dictionary. This will take ~20 seconds"
   ]
  },
  {
   "cell_type": "code",
   "execution_count": 2,
   "metadata": {},
   "outputs": [],
   "source": [
    "df = pd.read_csv('glove.6B.300d.txt', sep=\" \", quoting=3, header=None, index_col=0)\n",
    "glove_vecs = {key: val.values for key, val in df.T.items()}"
   ]
  },
  {
   "cell_type": "markdown",
   "metadata": {},
   "source": [
    "To speed things up, filter the vectors to only include words with lexical frequency > 1.5"
   ]
  },
  {
   "cell_type": "code",
   "execution_count": 3,
   "metadata": {},
   "outputs": [],
   "source": [
    "#read excel file\n",
    "subtlex = pd.read_excel('SUBTLEX.xlsx')\n",
    "#get wordlist column\n",
    "subtlex_wordlist=list(subtlex['Word'])\n",
    "#get Log10 word frequency column\n",
    "freqs=np.array(subtlex['Lg10WF'])\n",
    "#set word frequency dict\n",
    "word_freqs=dict(zip(subtlex_wordlist,freqs))\n",
    "\n",
    "#filter words\n",
    "keep_words=[word for word in glove_vecs if word in word_freqs and word_freqs[word]>1.5]\n",
    "\n",
    "#reset glove_vecs\n",
    "glove_vecs2=dict()\n",
    "for word in keep_words:\n",
    "    glove_vecs2[word]=glove_vecs[word]\n",
    "\n",
    "glove_vecs=glove_vecs2"
   ]
  },
  {
   "cell_type": "markdown",
   "metadata": {},
   "source": [
    "Check out a glove vector"
   ]
  },
  {
   "cell_type": "code",
   "execution_count": 39,
   "metadata": {},
   "outputs": [
    {
     "name": "stdout",
     "output_type": "stream",
     "text": [
      "[-0.53547   -0.32264   -0.17787    0.48639    0.27576    0.19807\n",
      "  0.21415    0.31027    0.074413   0.29251    0.13952   -0.49556\n",
      "  0.20858    0.32588   -0.15456    0.072814  -0.51364   -0.052127\n",
      " -0.12339    0.71907    0.60091    0.52926   -0.088118   0.18841\n",
      "  0.32419    0.19187    0.21641   -0.57295   -0.36778    0.47204\n",
      " -0.53247   -0.059267  -0.34259   -0.23663    0.45971    0.63399\n",
      "  0.305     -0.047307  -0.11934    0.21428    0.24365    0.27407\n",
      " -0.16237   -0.11816    0.026294  -0.039055   0.28232   -0.3402\n",
      "  0.27778   -0.13872    0.3879    -0.32425    0.17823    0.21853\n",
      "  0.3355    -0.32663    0.24301    0.46365    0.42917   -0.199\n",
      "  0.25955   -0.079685   0.41002    0.1351     0.30229   -0.012149\n",
      "  0.2271    -0.05333    0.77158   -0.25852   -0.29968    0.30693\n",
      " -0.058419  -0.1666     0.091203  -0.30427    0.1801     0.48554\n",
      "  0.24405   -0.39042   -0.022245   0.007868   0.50216   -0.10949\n",
      "  0.18704    0.30813    0.3518     0.39229    0.31233   -0.060502\n",
      " -0.07049    0.12552    0.35914   -0.087692   0.012105  -0.085715\n",
      "  0.3527     0.27499    0.29393    0.14892   -0.33821    0.11862\n",
      " -0.20021    0.70036    0.35517   -0.7881    -0.49568   -0.43104\n",
      " -0.3534    -0.11856    0.22102   -0.29879   -0.34032    0.15675\n",
      "  0.38428   -0.050467   0.0031088  0.47523   -0.36981    0.08946\n",
      " -0.28371   -0.097861  -0.23519    0.24791    0.080572   0.14351\n",
      "  0.14501   -0.14176   -0.28538   -0.14545    0.061023   0.13802\n",
      "  0.21896   -0.10027   -0.62389   -0.32516   -0.16739    0.55316\n",
      " -0.43701   -0.071062  -0.25654   -0.049514  -0.54721    0.25953\n",
      "  0.089035   0.046125  -0.018359   0.24746    0.12219   -0.075601\n",
      " -0.54339   -0.12971   -0.35998    0.068233   0.35126   -0.28374\n",
      "  0.042213  -0.19977    0.10052    0.29591    0.14747   -0.59599\n",
      "  0.35524   -0.59384   -0.015022   0.40153    0.025651   0.69164\n",
      "  0.58905   -0.31326    0.57051    0.11916    0.24298    0.46488\n",
      " -0.2239    -0.022194  -0.10142    0.14384   -0.39115   -0.68949\n",
      " -0.16308    0.23671    0.49774    0.010049  -0.018357   0.026987\n",
      "  0.70931   -0.58057    0.39224    0.38337   -0.25174   -0.8664\n",
      "  0.24629    0.067403  -0.19109   -0.039438  -0.27918    0.37598\n",
      " -0.22079    0.045838   0.29046    0.074486   0.53919   -0.092381\n",
      " -0.56461   -0.3546    -0.27423    0.087452  -0.25857   -0.28619\n",
      " -0.39142    0.022164   0.25796   -0.046606  -0.077746  -0.49655\n",
      "  0.35758   -0.23682    0.50951    0.74096   -0.1985    -0.61494\n",
      " -0.16391    0.72514   -0.47689   -0.036371   0.48442   -0.12965\n",
      "  0.015297  -0.28139   -0.2423     0.0082751 -0.50686   -0.52391\n",
      "  0.47643    0.16366    0.51612   -0.017569  -0.23288    0.040815\n",
      "  0.98268   -0.38925   -0.41991    0.36856   -0.22417   -0.070632\n",
      " -0.24777    0.25762   -0.14631   -0.22653   -0.18669   -0.405\n",
      "  0.15627    0.50638   -0.36263    0.31609    0.11727   -0.27419\n",
      " -0.015473   0.22357    0.30498    0.34241   -0.20908    0.17546\n",
      "  0.1599     0.27769    0.21304    0.20821    0.46528    0.15156\n",
      " -0.11395   -0.15622    0.11779    0.16264    0.46406    0.1755\n",
      "  0.12927   -0.1431    -0.11293   -0.47796   -0.45426    0.29904\n",
      " -0.33697   -0.10874   -0.15419   -0.06128   -0.34841    0.037855\n",
      " -0.52863   -0.40306   -0.20878    0.10808   -0.82565   -0.24681\n",
      " -0.66905   -0.73417   -0.015852   0.98332   -0.2566     0.31581  ]\n"
     ]
    }
   ],
   "source": [
    "print(glove_vecs['spooky'])"
   ]
  },
  {
   "cell_type": "markdown",
   "metadata": {},
   "source": [
    "Find semantic neighbors with correlations"
   ]
  },
  {
   "cell_type": "code",
   "execution_count": 4,
   "metadata": {},
   "outputs": [
    {
     "name": "stdout",
     "output_type": "stream",
     "text": [
      "['spooky', 'creepy', 'scary', 'weird', 'eerie', 'haunted', 'surreal', 'funky', 'dreamy', 'haunting']\n"
     ]
    }
   ],
   "source": [
    "w1='spooky'\n",
    "vec1=glove_vecs[w1]\n",
    "\n",
    "corrs=[]\n",
    "for word in glove_vecs:\n",
    "    corr=np.corrcoef(vec1,glove_vecs[word])[0][1]\n",
    "    corrs.append(corr)\n",
    "\n",
    "#find top 10 neighbors\n",
    "print([keep_words[i] for i in np.argsort(corrs)[::-1][:10]])"
   ]
  },
  {
   "cell_type": "markdown",
   "metadata": {},
   "source": [
    "Visualize vectors as 2D coordinates with UMAP"
   ]
  },
  {
   "cell_type": "code",
   "execution_count": 36,
   "metadata": {},
   "outputs": [
    {
     "data": {
      "image/png": "[encoded data removed]",
      "text/plain": [
       "<Figure size 432x288 with 1 Axes>"
      ]
     },
     "metadata": {
      "needs_background": "light"
     },
     "output_type": "display_data"
    }
   ],
   "source": [
    "import random\n",
    "import umap\n",
    "import matplotlib.pyplot as plt\n",
    "\n",
    "random.shuffle(keep_words)\n",
    "\n",
    "randvecs=[glove_vecs[w] for w in keep_words[:10]]\n",
    "\n",
    "randvecs2d = umap.UMAP(n_neighbors=3,\n",
    "                      min_dist=.1,\n",
    "                      metric='euclidean').fit_transform(randvecs)\n",
    "\n",
    "#plot each word based on 2d coordinates\n",
    "for ind,coords in enumerate(randvecs2d):\n",
    "\n",
    "    word=keep_words[ind]\n",
    "    \n",
    "    x=coords[0]\n",
    "    y=coords[1]\n",
    "\n",
    "    plt.text(x,y,word,fontsize=8)\n",
    "\n",
    "#set x and y limits\n",
    "plt.xlim(np.min([v[0] for v in randvecs2d])-1,np.max([v[0] for v in randvecs2d])+1)\n",
    "plt.ylim(np.min([v[1] for v in randvecs2d])-1,np.max([v[1] for v in randvecs2d])+1)\n",
    "\n",
    "plt.show()"
   ]
  },
  {
   "cell_type": "code",
   "execution_count": null,
   "metadata": {},
   "outputs": [],
   "source": []
  },
  {
   "cell_type": "code",
   "execution_count": 37,
   "metadata": {},
   "outputs": [
    {
     "name": "stdout",
     "output_type": "stream",
     "text": [
      "Collecting torch (from -r requirements.txt (line 1))\n",
      "\u001b[?25l  Downloading https://files.pythonhosted.org/packages/c2/c9/46d13c7cd7234aca5f12eb84487a14af1719f8e47ae4268786b7b22baec3/torch-1.3.0.post2-cp37-none-macosx_10_9_x86_64.whl (71.1MB)\n",
      "\u001b[K     |████████████████████████████████| 71.1MB 233kB/s eta 0:00:013\n",
      "\u001b[?25hCollecting pytorch_transformers (from -r requirements.txt (line 2))\n",
      "  Using cached https://files.pythonhosted.org/packages/a3/b7/d3d18008a67e0b968d1ab93ad444fc05699403fa662f634b2f2c318a508b/pytorch_transformers-1.2.0-py3-none-any.whl\n",
      "Requirement already satisfied: numpy in /anaconda3/lib/python3.7/site-packages (from -r requirements.txt (line 3)) (1.16.4)\n",
      "Requirement already satisfied: nltk in /anaconda3/lib/python3.7/site-packages (from -r requirements.txt (line 4)) (3.4.4)\n",
      "Requirement already satisfied: wikipedia in /anaconda3/lib/python3.7/site-packages (from -r requirements.txt (line 5)) (1.4.0)\n",
      "Requirement already satisfied: pandas in /anaconda3/lib/python3.7/site-packages (from -r requirements.txt (line 6)) (0.24.2)\n",
      "Requirement already satisfied: scipy in /anaconda3/lib/python3.7/site-packages (from -r requirements.txt (line 7)) (1.3.0)\n",
      "Requirement already satisfied: cmudict in /anaconda3/lib/python3.7/site-packages (from -r requirements.txt (line 8)) (0.4.3)\n",
      "Requirement already satisfied: umap-learn in /anaconda3/lib/python3.7/site-packages (from -r requirements.txt (line 9)) (0.3.10)\n",
      "Requirement already satisfied: matplotlib in /anaconda3/lib/python3.7/site-packages (from -r requirements.txt (line 10)) (3.1.0)\n",
      "Requirement already satisfied: vaderSentiment in /anaconda3/lib/python3.7/site-packages (from -r requirements.txt (line 11)) (3.2.1)\n",
      "Requirement already satisfied: afinn in /anaconda3/lib/python3.7/site-packages (from -r requirements.txt (line 12)) (0.1)\n",
      "Requirement already satisfied: sentistrength in /anaconda3/lib/python3.7/site-packages (from -r requirements.txt (line 13)) (0.0.4)\n",
      "Requirement already satisfied: requests in /anaconda3/lib/python3.7/site-packages (from -r requirements.txt (line 14)) (2.22.0)\n",
      "Collecting boto3 (from pytorch_transformers->-r requirements.txt (line 2))\n",
      "\u001b[?25l  Downloading https://files.pythonhosted.org/packages/5d/13/40de5d345750f4401c1f96cd206d6582dfc702be731810c97541ef41cfcf/boto3-1.10.4-py2.py3-none-any.whl (128kB)\n",
      "\u001b[K     |████████████████████████████████| 133kB 12.9MB/s eta 0:00:01\n",
      "\u001b[?25hCollecting sacremoses (from pytorch_transformers->-r requirements.txt (line 2))\n",
      "\u001b[?25l  Downloading https://files.pythonhosted.org/packages/1f/8e/ed5364a06a9ba720fddd9820155cc57300d28f5f43a6fd7b7e817177e642/sacremoses-0.0.35.tar.gz (859kB)\n",
      "\u001b[K     |████████████████████████████████| 860kB 12.1MB/s eta 0:00:01\n",
      "\u001b[?25hCollecting sentencepiece (from pytorch_transformers->-r requirements.txt (line 2))\n",
      "\u001b[?25l  Downloading https://files.pythonhosted.org/packages/db/7d/f077c7d6c8dc958207960896b35ca1bbf6128527b8a6d4c4aef862660489/sentencepiece-0.1.83-cp37-cp37m-macosx_10_6_x86_64.whl (1.1MB)\n",
      "\u001b[K     |████████████████████████████████| 1.1MB 13.7MB/s eta 0:00:01\n",
      "\u001b[?25hCollecting regex (from pytorch_transformers->-r requirements.txt (line 2))\n",
      "\u001b[?25l  Downloading https://files.pythonhosted.org/packages/6f/a6/99eeb5904ab763db87af4bd71d9b1dfdd9792681240657a4c0a599c10a81/regex-2019.08.19.tar.gz (654kB)\n",
      "\u001b[K     |████████████████████████████████| 655kB 19.6MB/s eta 0:00:01\n",
      "\u001b[?25hRequirement already satisfied: tqdm in /anaconda3/lib/python3.7/site-packages (from pytorch_transformers->-r requirements.txt (line 2)) (4.32.1)\n",
      "Requirement already satisfied: six in /anaconda3/lib/python3.7/site-packages (from nltk->-r requirements.txt (line 4)) (1.12.0)\n",
      "Requirement already satisfied: beautifulsoup4 in /anaconda3/lib/python3.7/site-packages (from wikipedia->-r requirements.txt (line 5)) (4.7.1)\n",
      "Requirement already satisfied: python-dateutil>=2.5.0 in /anaconda3/lib/python3.7/site-packages (from pandas->-r requirements.txt (line 6)) (2.8.0)\n",
      "Requirement already satisfied: pytz>=2011k in /anaconda3/lib/python3.7/site-packages (from pandas->-r requirements.txt (line 6)) (2019.1)\n",
      "Requirement already satisfied: scikit-learn>=0.16 in /anaconda3/lib/python3.7/site-packages (from umap-learn->-r requirements.txt (line 9)) (0.21.2)\n",
      "Requirement already satisfied: numba>=0.37 in /anaconda3/lib/python3.7/site-packages (from umap-learn->-r requirements.txt (line 9)) (0.44.1)\n",
      "Requirement already satisfied: cycler>=0.10 in /anaconda3/lib/python3.7/site-packages (from matplotlib->-r requirements.txt (line 10)) (0.10.0)\n",
      "Requirement already satisfied: kiwisolver>=1.0.1 in /anaconda3/lib/python3.7/site-packages (from matplotlib->-r requirements.txt (line 10)) (1.1.0)\n",
      "Requirement already satisfied: pyparsing!=2.0.4,!=2.1.2,!=2.1.6,>=2.0.1 in /anaconda3/lib/python3.7/site-packages (from matplotlib->-r requirements.txt (line 10)) (2.4.0)\n",
      "Requirement already satisfied: urllib3!=1.25.0,!=1.25.1,<1.26,>=1.21.1 in /anaconda3/lib/python3.7/site-packages (from requests->-r requirements.txt (line 14)) (1.24.2)\n",
      "Requirement already satisfied: certifi>=2017.4.17 in /anaconda3/lib/python3.7/site-packages (from requests->-r requirements.txt (line 14)) (2019.6.16)\n",
      "Requirement already satisfied: idna<2.9,>=2.5 in /anaconda3/lib/python3.7/site-packages (from requests->-r requirements.txt (line 14)) (2.8)\n",
      "Requirement already satisfied: chardet<3.1.0,>=3.0.2 in /anaconda3/lib/python3.7/site-packages (from requests->-r requirements.txt (line 14)) (3.0.4)\n",
      "Collecting botocore<1.14.0,>=1.13.4 (from boto3->pytorch_transformers->-r requirements.txt (line 2))\n",
      "\u001b[?25l  Downloading https://files.pythonhosted.org/packages/10/0b/76b8897ef54ea0ebc71cadd64f0546e95466e13f5fa2654cb393d915e251/botocore-1.13.4-py2.py3-none-any.whl (5.3MB)\n",
      "\u001b[K     |████████████████████████████████| 5.3MB 2.9MB/s eta 0:00:011\n",
      "\u001b[?25hCollecting jmespath<1.0.0,>=0.7.1 (from boto3->pytorch_transformers->-r requirements.txt (line 2))\n",
      "  Downloading https://files.pythonhosted.org/packages/83/94/7179c3832a6d45b266ddb2aac329e101367fbdb11f425f13771d27f225bb/jmespath-0.9.4-py2.py3-none-any.whl\n",
      "Collecting s3transfer<0.3.0,>=0.2.0 (from boto3->pytorch_transformers->-r requirements.txt (line 2))\n",
      "\u001b[?25l  Downloading https://files.pythonhosted.org/packages/16/8a/1fc3dba0c4923c2a76e1ff0d52b305c44606da63f718d14d3231e21c51b0/s3transfer-0.2.1-py2.py3-none-any.whl (70kB)\n",
      "\u001b[K     |████████████████████████████████| 71kB 22.5MB/s eta 0:00:01\n",
      "\u001b[?25hRequirement already satisfied: click in /anaconda3/lib/python3.7/site-packages (from sacremoses->pytorch_transformers->-r requirements.txt (line 2)) (7.0)\n",
      "Requirement already satisfied: joblib in /anaconda3/lib/python3.7/site-packages (from sacremoses->pytorch_transformers->-r requirements.txt (line 2)) (0.13.2)\n",
      "Requirement already satisfied: soupsieve>=1.2 in /anaconda3/lib/python3.7/site-packages (from beautifulsoup4->wikipedia->-r requirements.txt (line 5)) (1.8)\n",
      "Requirement already satisfied: llvmlite>=0.29.0 in /anaconda3/lib/python3.7/site-packages (from numba>=0.37->umap-learn->-r requirements.txt (line 9)) (0.29.0)\n",
      "Requirement already satisfied: setuptools in /anaconda3/lib/python3.7/site-packages (from kiwisolver>=1.0.1->matplotlib->-r requirements.txt (line 10)) (41.0.1)\n",
      "Requirement already satisfied: docutils<0.16,>=0.10 in /anaconda3/lib/python3.7/site-packages (from botocore<1.14.0,>=1.13.4->boto3->pytorch_transformers->-r requirements.txt (line 2)) (0.14)\n",
      "Building wheels for collected packages: sacremoses, regex\n",
      "  Building wheel for sacremoses (setup.py) ... \u001b[?25ldone\n",
      "\u001b[?25h  Stored in directory: /Users/msiegelman/Library/Caches/pip/wheels/63/2a/db/63e2909042c634ef551d0d9ac825b2b0b32dede4a6d87ddc94\n",
      "  Building wheel for regex (setup.py) ... \u001b[?25ldone\n",
      "\u001b[?25h  Stored in directory: /Users/msiegelman/Library/Caches/pip/wheels/90/04/07/b5010fb816721eb3d6dd64ed5cc8111ca23f97fdab8619b5be\n",
      "Successfully built sacremoses regex\n",
      "Installing collected packages: torch, jmespath, botocore, s3transfer, boto3, sacremoses, sentencepiece, regex, pytorch-transformers\n",
      "Successfully installed boto3-1.10.4 botocore-1.13.4 jmespath-0.9.4 pytorch-transformers-1.2.0 regex-2019.8.19 s3transfer-0.2.1 sacremoses-0.0.35 sentencepiece-0.1.83 torch-1.3.0.post2\n",
      "Note: you may need to restart the kernel to use updated packages.\n"
     ]
    }
   ],
   "source": []
  },
  {
   "cell_type": "code",
   "execution_count": null,
   "metadata": {},
   "outputs": [],
   "source": []
  }
 ],
 "metadata": {
  "kernelspec": {
   "display_name": "Python 3",
   "language": "python",
   "name": "python3"
  },
  "language_info": {
   "codemirror_mode": {
    "name": "ipython",
    "version": 3
   },
   "file_extension": ".py",
   "mimetype": "text/x-python",
   "name": "python",
   "nbconvert_exporter": "python",
   "pygments_lexer": "ipython3",
   "version": "3.7.3"
  }
 },
 "nbformat": 4,
 "nbformat_minor": 2
}
