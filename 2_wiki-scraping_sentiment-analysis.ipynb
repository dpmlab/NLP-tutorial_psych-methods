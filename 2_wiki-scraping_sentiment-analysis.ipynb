{
 "cells": [
  {
   "cell_type": "markdown",
   "metadata": {},
   "source": [
    "Import relevant packages"
   ]
  },
  {
   "cell_type": "code",
   "execution_count": null,
   "metadata": {},
   "outputs": [],
   "source": [
    "import wikipedia\n",
    "import nltk\n",
    "from nltk import word_tokenize\n",
    "from nltk import pos_tag\n",
    "import numpy as np\n",
    "import pandas as pd"
   ]
  },
  {
   "cell_type": "markdown",
   "metadata": {},
   "source": [
    "Scrape text from wikipedia"
   ]
  },
  {
   "cell_type": "code",
   "execution_count": null,
   "metadata": {},
   "outputs": [],
   "source": [
    "topic='Halloween'\n",
    "\n",
    "#get wiki page\n",
    "page = wikipedia.page(topic)\n",
    "\n",
    "#get summary (note: change 'summary' to 'content' to scrape the whole page)\n",
    "summary=page.summary\n",
    "\n",
    "#tokenize\n",
    "tokens=word_tokenize(summary)\n",
    "\n",
    "print(tokens)"
   ]
  },
  {
   "cell_type": "markdown",
   "metadata": {},
   "source": [
    "Check out sentiment scores from pre-trained vader model"
   ]
  },
  {
   "cell_type": "code",
   "execution_count": null,
   "metadata": {},
   "outputs": [],
   "source": [
    "from vaderSentiment.vaderSentiment import SentimentIntensityAnalyzer \n",
    "nltk.download('vader_lexicon')\n",
    "\n",
    "get_sentiment = SentimentIntensityAnalyzer() \n",
    "scores=[]\n",
    "for cw in tokens:\n",
    "    sentiments = get_sentiment.polarity_scores(cw) \n",
    "    print(cw)\n",
    "    print(sentiments)\n",
    "    print('\\n')"
   ]
  },
  {
   "cell_type": "markdown",
   "metadata": {},
   "source": [
    "Try a few different topics"
   ]
  },
  {
   "cell_type": "code",
   "execution_count": null,
   "metadata": {},
   "outputs": [],
   "source": [
    "topics=['Semantic memory','Cotton candy','Bubonic plague','Columbia University','Tornado','Tomato']\n",
    "\n",
    "#abbreviate sentiment function\n",
    "get_sentiment = SentimentIntensityAnalyzer() \n",
    "\n",
    "for topic in topics:\n",
    "\n",
    "    #get wiki page\n",
    "    page = wikipedia.page(topic)\n",
    "\n",
    "    #get summary  \n",
    "    summary=page.summary\n",
    "\n",
    "    #get sentiment score\n",
    "    sentiment = get_sentiment.polarity_scores(summary) \n",
    "    score=sentiment['compound'] / len(summary.split(' '))\n",
    "\n",
    "    print(topic + ': ' + str(score))\n",
    "    "
   ]
  },
  {
   "cell_type": "markdown",
   "metadata": {},
   "source": [
    "Try a different pretrained sentiment analyzer: afinn"
   ]
  },
  {
   "cell_type": "code",
   "execution_count": null,
   "metadata": {},
   "outputs": [],
   "source": [
    "from afinn import Afinn\n",
    "afinn = Afinn()\n",
    "\n",
    "topics=['Semantic memory','Cotton candy','Bubonic plague','Columbia University','Tornado','Tomato']\n",
    "\n",
    "for topic in topics:\n",
    "\n",
    "    #get wiki page\n",
    "    page = wikipedia.page(topic)\n",
    "\n",
    "    #get summary (NOTE: CHANGE 'SUMMARY' TO 'CONTENT' TO USE THE WHOLE PAGE)\n",
    "    summary=page.summary\n",
    "\n",
    "    #get affinity score\n",
    "    score = afinn.score(summary) / len(summary.split(' '))\n",
    "    \n",
    "    print(topic + ': ' + str(score))\n"
   ]
  },
  {
   "cell_type": "markdown",
   "metadata": {},
   "source": [
    "And yet another pretrained sentiment analyzer: SentiStrength"
   ]
  },
  {
   "cell_type": "code",
   "execution_count": null,
   "metadata": {},
   "outputs": [],
   "source": [
    "from sentistrength import PySentiStr\n",
    "\n",
    "senti = PySentiStr()\n",
    "senti.setSentiStrengthPath('./SentiStrength.jar')\n",
    "senti.setSentiStrengthLanguageFolderPath('SentiStrength_Data/')\n",
    "\n",
    "topics=['Semantic memory','Cotton candy','Bubonic plague','Columbia University','Tornado','Tomato']\n",
    "\n",
    "for topic in topics:\n",
    "\n",
    "    #get wiki page\n",
    "    page = wikipedia.page(topic)\n",
    "\n",
    "    #get summary (NOTE: CHANGE 'SUMMARY' TO 'CONTENT' TO USE THE WHOLE PAGE)\n",
    "    summary=page.summary\n",
    "\n",
    "    #get sentistrength score\n",
    "    score = senti.getSentiment(summary)[0] / len(summary.split(' '))\n",
    "    \n",
    "    print(topic + ': ' + str(score))"
   ]
  },
  {
   "cell_type": "code",
   "execution_count": null,
   "metadata": {},
   "outputs": [],
   "source": []
  }
 ],
 "metadata": {
  "kernelspec": {
   "display_name": "Python 3",
   "language": "python",
   "name": "python3"
  },
  "language_info": {
   "codemirror_mode": {
    "name": "ipython",
    "version": 3
   },
   "file_extension": ".py",
   "mimetype": "text/x-python",
   "name": "python",
   "nbconvert_exporter": "python",
   "pygments_lexer": "ipython3",
   "version": "3.7.3"
  }
 },
 "nbformat": 4,
 "nbformat_minor": 2
}
