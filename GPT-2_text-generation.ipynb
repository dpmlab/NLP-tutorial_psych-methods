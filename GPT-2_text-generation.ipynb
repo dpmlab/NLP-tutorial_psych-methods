{
 "cells": [
  {
   "cell_type": "code",
   "execution_count": null,
   "metadata": {},
   "outputs": [],
   "source": [
    "# pip install torch\n",
    "# pip install pytorch_transformers"
   ]
  },
  {
   "cell_type": "code",
   "execution_count": null,
   "metadata": {},
   "outputs": [],
   "source": [
    "from pytorch_transformers import GPT2Tokenizer, GPT2LMHeadModel\n",
    "import torch\n",
    "import numpy as np"
   ]
  },
  {
   "cell_type": "code",
   "execution_count": null,
   "metadata": {},
   "outputs": [],
   "source": [
    "# Load pre-trained model tokenizer (vocabulary)\n",
    "tokenizer = GPT2Tokenizer.from_pretrained('gpt2-large')\n",
    "\n",
    "# Load pre-trained model (weights)\n",
    "model = GPT2LMHeadModel.from_pretrained('gpt2-large')\n",
    "model.eval()"
   ]
  },
  {
   "cell_type": "code",
   "execution_count": null,
   "metadata": {},
   "outputs": [],
   "source": [
    "prompt='Wow, what a beautiful'\n",
    "\n",
    "for i in range(15):\n",
    "    \n",
    "    #tokenize primpts\n",
    "    tokens=tokenizer.encode(prompt)\n",
    "\n",
    "    #convert to tensor variable\n",
    "    tokens_tensor = torch.tensor([tokens])    \n",
    "\n",
    "    #predict next word\n",
    "    outputs = model(tokens_tensor)\n",
    "    predictions = outputs[0]\n",
    "\n",
    "    #normalize probability distribution\n",
    "    probs=torch.softmax(predictions[0][-1],-1).data.numpy()\n",
    "    \n",
    "    #choose max probability word\n",
    "    next_word=tokenizer.decode(int(np.argmax(probs)))\n",
    "\n",
    "    #add to prompt\n",
    "    prompt=prompt + next_word\n",
    "\n",
    "    print(prompt)\n"
   ]
  }
 ],
 "metadata": {
  "kernelspec": {
   "display_name": "Python 3",
   "language": "python",
   "name": "python3"
  },
  "language_info": {
   "codemirror_mode": {
    "name": "ipython",
    "version": 3
   },
   "file_extension": ".py",
   "mimetype": "text/x-python",
   "name": "python",
   "nbconvert_exporter": "python",
   "pygments_lexer": "ipython3",
   "version": "3.7.3"
  }
 },
 "nbformat": 4,
 "nbformat_minor": 2
}
